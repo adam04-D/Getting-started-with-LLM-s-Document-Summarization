{
 "cells": [
  {
   "cell_type": "code",
   "execution_count": 165,
   "id": "457e5b31",
   "metadata": {},
   "outputs": [],
   "source": [
    "from pathlib import Path\n",
    "from textwrap import fill\n",
    "\n",
    "\n",
    "import numpy as np \n",
    "import pandas as pd \n",
    "import requests \n",
    "import seaborn as sns \n",
    "from sklearn.model_selection import train_test_split\n",
    "from tqdm.auto import tqdm\n",
    "import tiktoken\n"
   ]
  },
  {
   "cell_type": "code",
   "execution_count": 166,
   "id": "64f1c1c8",
   "metadata": {},
   "outputs": [],
   "source": [
    "LLM_server = 'http://localhost:11434'\n",
    "MODEL = 'gemma3:1b'\n",
    "DATA_DIR = Path.cwd().parent / \"data\"\n"
   ]
  },
  {
   "cell_type": "code",
   "execution_count": 167,
   "id": "6147f40a",
   "metadata": {},
   "outputs": [
    {
     "data": {
      "text/html": [
       "<div>\n",
       "<style scoped>\n",
       "    .dataframe tbody tr th:only-of-type {\n",
       "        vertical-align: middle;\n",
       "    }\n",
       "\n",
       "    .dataframe tbody tr th {\n",
       "        vertical-align: top;\n",
       "    }\n",
       "\n",
       "    .dataframe thead th {\n",
       "        text-align: right;\n",
       "    }\n",
       "</style>\n",
       "<table border=\"1\" class=\"dataframe\">\n",
       "  <thead>\n",
       "    <tr style=\"text-align: right;\">\n",
       "      <th></th>\n",
       "      <th>text</th>\n",
       "      <th>summary</th>\n",
       "    </tr>\n",
       "    <tr>\n",
       "      <th>paper_id</th>\n",
       "      <th></th>\n",
       "      <th></th>\n",
       "    </tr>\n",
       "  </thead>\n",
       "  <tbody>\n",
       "    <tr>\n",
       "      <th>0</th>\n",
       "      <td>## FROM SOVEREIGNTY TO EXTRATERRITORIAL CONSCI...</td>\n",
       "      <td>In this article, Victor Fan argues that analys...</td>\n",
       "    </tr>\n",
       "    <tr>\n",
       "      <th>1</th>\n",
       "      <td>## 1. Introduction\\n\\n\\nAn Electronic Health R...</td>\n",
       "      <td>Problem definition: Physicians spend more than...</td>\n",
       "    </tr>\n",
       "    <tr>\n",
       "      <th>2</th>\n",
       "      <td>## Introduction\\n\\n\\nTranslation  plays  an  i...</td>\n",
       "      <td>Literary translation is one of the most challe...</td>\n",
       "    </tr>\n",
       "    <tr>\n",
       "      <th>3</th>\n",
       "      <td>## 1 Problem Setup\\n\\n\\nRecent political scien...</td>\n",
       "      <td>There is a long-running debate on evaluating f...</td>\n",
       "    </tr>\n",
       "    <tr>\n",
       "      <th>4</th>\n",
       "      <td>## INTRODUCTION\\n\\n\\nThis  article  investigat...</td>\n",
       "      <td>Recently, ‘bimajyo’ (美魔女) came into focus in J...</td>\n",
       "    </tr>\n",
       "    <tr>\n",
       "      <th>...</th>\n",
       "      <td>...</td>\n",
       "      <td>...</td>\n",
       "    </tr>\n",
       "    <tr>\n",
       "      <th>995</th>\n",
       "      <td>## Methods\\n\\n\\n\\n## Sample\\n\\n\\nOur data come...</td>\n",
       "      <td>Demand for democratic accountability in polici...</td>\n",
       "    </tr>\n",
       "    <tr>\n",
       "      <th>996</th>\n",
       "      <td>## Introduction\\n\\n\\nCanada is a high-income c...</td>\n",
       "      <td>Canada’s employment standards laws and mandato...</td>\n",
       "    </tr>\n",
       "    <tr>\n",
       "      <th>997</th>\n",
       "      <td>## Introduction\\n\\n\\nCultural studies has ofte...</td>\n",
       "      <td>Cultural studies has often favoured a Foucauld...</td>\n",
       "    </tr>\n",
       "    <tr>\n",
       "      <th>998</th>\n",
       "      <td>## 1. Introduction\\n\\n\\nTwentieth century plan...</td>\n",
       "      <td>Vehicular air pollution has created an ongoing...</td>\n",
       "    </tr>\n",
       "    <tr>\n",
       "      <th>999</th>\n",
       "      <td>## 1. Introduction\\n\\n\\nLongleaf pine ( Pinus ...</td>\n",
       "      <td>For the last several decades, a substantial am...</td>\n",
       "    </tr>\n",
       "  </tbody>\n",
       "</table>\n",
       "<p>1000 rows × 2 columns</p>\n",
       "</div>"
      ],
      "text/plain": [
       "                                                       text  \\\n",
       "paper_id                                                      \n",
       "0         ## FROM SOVEREIGNTY TO EXTRATERRITORIAL CONSCI...   \n",
       "1         ## 1. Introduction\\n\\n\\nAn Electronic Health R...   \n",
       "2         ## Introduction\\n\\n\\nTranslation  plays  an  i...   \n",
       "3         ## 1 Problem Setup\\n\\n\\nRecent political scien...   \n",
       "4         ## INTRODUCTION\\n\\n\\nThis  article  investigat...   \n",
       "...                                                     ...   \n",
       "995       ## Methods\\n\\n\\n\\n## Sample\\n\\n\\nOur data come...   \n",
       "996       ## Introduction\\n\\n\\nCanada is a high-income c...   \n",
       "997       ## Introduction\\n\\n\\nCultural studies has ofte...   \n",
       "998       ## 1. Introduction\\n\\n\\nTwentieth century plan...   \n",
       "999       ## 1. Introduction\\n\\n\\nLongleaf pine ( Pinus ...   \n",
       "\n",
       "                                                    summary  \n",
       "paper_id                                                     \n",
       "0         In this article, Victor Fan argues that analys...  \n",
       "1         Problem definition: Physicians spend more than...  \n",
       "2         Literary translation is one of the most challe...  \n",
       "3         There is a long-running debate on evaluating f...  \n",
       "4         Recently, ‘bimajyo’ (美魔女) came into focus in J...  \n",
       "...                                                     ...  \n",
       "995       Demand for democratic accountability in polici...  \n",
       "996       Canada’s employment standards laws and mandato...  \n",
       "997       Cultural studies has often favoured a Foucauld...  \n",
       "998       Vehicular air pollution has created an ongoing...  \n",
       "999       For the last several decades, a substantial am...  \n",
       "\n",
       "[1000 rows x 2 columns]"
      ]
     },
     "execution_count": 167,
     "metadata": {},
     "output_type": "execute_result"
    }
   ],
   "source": [
    "df= pd.read_csv('train.csv', index_col=0)\n",
    "df"
   ]
  },
  {
   "cell_type": "code",
   "execution_count": 168,
   "id": "6c869919",
   "metadata": {},
   "outputs": [
    {
     "data": {
      "text/plain": [
       "Index(['text', 'summary'], dtype='object')"
      ]
     },
     "execution_count": 168,
     "metadata": {},
     "output_type": "execute_result"
    }
   ],
   "source": [
    "df.columns"
   ]
  },
  {
   "cell_type": "code",
   "execution_count": 169,
   "id": "d44b39ca",
   "metadata": {},
   "outputs": [
    {
     "name": "stdout",
     "output_type": "stream",
     "text": [
      "Document lenght : 33,416 characters\n",
      "Document: \n",
      "## FROM SOVEREIGNTY TO EXTRATERRITORIAL CONSCIOUSNESS\n",
      "\n",
      "\n",
      "Since 1997,\n",
      "the concept of extraterritoriality has been configured in the\n",
      "political tension between Hong Kong and Beijing. From the perspective\n",
      "of the Central Government, it is fundamental for the people of China\n",
      "to shijian zhuquan instantiate its sovereignty over Hong Kong. But\n",
      "while most Hong / Kong residents insist on interpreting this concept\n",
      "in terms of the Euro-American notion of selfdetermination  (zizhu /\n",
      "making decisions  for  oneself),  the  Beijing  government  believes\n",
      "that  the Hong Kong legislature must make decisions in conformation to\n",
      "the larger will of the people, which the Party represents, a concept\n",
      "taken from the writings of Lenin and Stalin (Gao 2010: 26-30). This\n",
      "tension is crystalised in the long debate about Article 23 of the Hong\n",
      "Kong Basic Law, which requires  the  SAR  to  'enact  laws  on  its\n",
      "own  to  prohibit  any  act  of  treason,  secession,  sedition,\n",
      "subversion  against  the  Central  People's  G\n"
     ]
    }
   ],
   "source": [
    "print(f'Document lenght : {len(df.loc[0, 'text']):,} characters')\n",
    "print('Document: ')\n",
    "print(fill(df.loc[0, 'text'], replace_whitespace=False)[:1000])"
   ]
  },
  {
   "cell_type": "code",
   "execution_count": 170,
   "id": "2b690f72",
   "metadata": {},
   "outputs": [
    {
     "name": "stdout",
     "output_type": "stream",
     "text": [
      "In this article, Victor Fan argues that analysing contemporary Hong\n",
      "Kong cinema requires active rewriting of established postcolonial\n",
      "theories by taking into account the specific mode of colonisation of\n",
      "Hong Kong: extraterritoriality. This concept has been responsible for\n",
      "the construction of the cultural plurality, linguistic ambiguity, and\n",
      "political liminality of Hong Kong and its cinematographic experience,\n",
      "as well as the incongruence between the community’s political\n",
      "consciousness after 1997 and the larger national imagination\n",
      "promulgated by the Beijing government. The term ‘extraterritoriality’\n",
      "was translated into Chinese after 1895 via Japanese as zhiwai faquan\n",
      "the right to exercise one’s law outside a nation state’s sovereign\n",
      "terrain, and colonialism in China between 1844 and 1949 was largely\n",
      "characterized by a continuous reformulation and systematisation of\n",
      "this concept. It in fact still informs the way former colonised\n",
      "regions in China are administered today, and the political unconscious\n",
      "of their residents. With Jonnie To’s 2012 film Duzhan (Dukzin) /Drug\n",
      "War as a case study, contemporary Hong Kong cinema, Fan argues, can be\n",
      "understood as a public sphere where an extraterritorial consciousness\n",
      "and the contesting political affects associated with it are actively\n",
      "negotiated.\n"
     ]
    }
   ],
   "source": [
    "print(fill(df.loc[0, 'summary']))"
   ]
  },
  {
   "cell_type": "code",
   "execution_count": 171,
   "id": "814de8d1",
   "metadata": {},
   "outputs": [],
   "source": [
    "df['text_len']= df.text.str.len()\n",
    "df['summary_len']= df.summary.str.len()\n",
    "df['text_len_log']= np.log10(df.text_len)\n",
    "df['summary_len_log'] = np.log10(df.summary_len)"
   ]
  },
  {
   "cell_type": "code",
   "execution_count": 172,
   "id": "1dbd78a1",
   "metadata": {},
   "outputs": [
    {
     "data": {
      "text/plain": [
       "<seaborn.axisgrid.JointGrid at 0x22596b1fc80>"
      ]
     },
     "execution_count": 172,
     "metadata": {},
     "output_type": "execute_result"
    },
    {
     "data": {
      "image/png": "[encoded data removed]",
      "text/plain": [
       "<Figure size 600x600 with 3 Axes>"
      ]
     },
     "metadata": {},
     "output_type": "display_data"
    }
   ],
   "source": [
    "g= sns.jointplot(df, x='text_len_log', y='summary_len_log', kind='hist')\n",
    "xticks= [3,4,5,6]\n",
    "yticks = [2,np.log10(250), np.log10(500), 3, np.log10(2_500), np.log10(5_000), 4 ]\n",
    "g.ax_marg_x.set_xticks(xticks, [f\"{10**tick:,.0f}\" for tick in xticks])\n",
    "g.ax_marg_y.set_yticks(yticks, [f\"{10**tick:,.0f}\" for tick in yticks])\n",
    "g.set_axis_labels(\n",
    "    \"Num. characters in text (log scale)\", \"Num. characters in summary (log scale)\"\n",
    ")"
   ]
  },
  {
   "cell_type": "code",
   "execution_count": 173,
   "id": "6e3c5c8b",
   "metadata": {},
   "outputs": [
    {
     "data": {
      "text/html": [
       "<div>\n",
       "<style scoped>\n",
       "    .dataframe tbody tr th:only-of-type {\n",
       "        vertical-align: middle;\n",
       "    }\n",
       "\n",
       "    .dataframe tbody tr th {\n",
       "        vertical-align: top;\n",
       "    }\n",
       "\n",
       "    .dataframe thead th {\n",
       "        text-align: right;\n",
       "    }\n",
       "</style>\n",
       "<table border=\"1\" class=\"dataframe\">\n",
       "  <thead>\n",
       "    <tr style=\"text-align: right;\">\n",
       "      <th></th>\n",
       "      <th>text_len</th>\n",
       "      <th>summary_len</th>\n",
       "      <th>text_len_log</th>\n",
       "      <th>summary_len_log</th>\n",
       "    </tr>\n",
       "  </thead>\n",
       "  <tbody>\n",
       "    <tr>\n",
       "      <th>count</th>\n",
       "      <td>1000.000000</td>\n",
       "      <td>1000.000000</td>\n",
       "      <td>1000.000000</td>\n",
       "      <td>1000.000000</td>\n",
       "    </tr>\n",
       "    <tr>\n",
       "      <th>mean</th>\n",
       "      <td>42050.269000</td>\n",
       "      <td>1275.241000</td>\n",
       "      <td>4.574534</td>\n",
       "      <td>3.079240</td>\n",
       "    </tr>\n",
       "    <tr>\n",
       "      <th>std</th>\n",
       "      <td>21412.146068</td>\n",
       "      <td>426.262199</td>\n",
       "      <td>0.207977</td>\n",
       "      <td>0.162033</td>\n",
       "    </tr>\n",
       "    <tr>\n",
       "      <th>min</th>\n",
       "      <td>10145.000000</td>\n",
       "      <td>90.000000</td>\n",
       "      <td>4.006252</td>\n",
       "      <td>1.954243</td>\n",
       "    </tr>\n",
       "    <tr>\n",
       "      <th>25%</th>\n",
       "      <td>28381.500000</td>\n",
       "      <td>1008.500000</td>\n",
       "      <td>4.453035</td>\n",
       "      <td>3.003676</td>\n",
       "    </tr>\n",
       "    <tr>\n",
       "      <th>50%</th>\n",
       "      <td>38962.000000</td>\n",
       "      <td>1258.500000</td>\n",
       "      <td>4.590641</td>\n",
       "      <td>3.099853</td>\n",
       "    </tr>\n",
       "    <tr>\n",
       "      <th>75%</th>\n",
       "      <td>51263.250000</td>\n",
       "      <td>1501.250000</td>\n",
       "      <td>4.709806</td>\n",
       "      <td>3.176453</td>\n",
       "    </tr>\n",
       "    <tr>\n",
       "      <th>max</th>\n",
       "      <td>196911.000000</td>\n",
       "      <td>4359.000000</td>\n",
       "      <td>5.294270</td>\n",
       "      <td>3.639387</td>\n",
       "    </tr>\n",
       "  </tbody>\n",
       "</table>\n",
       "</div>"
      ],
      "text/plain": [
       "            text_len  summary_len  text_len_log  summary_len_log\n",
       "count    1000.000000  1000.000000   1000.000000      1000.000000\n",
       "mean    42050.269000  1275.241000      4.574534         3.079240\n",
       "std     21412.146068   426.262199      0.207977         0.162033\n",
       "min     10145.000000    90.000000      4.006252         1.954243\n",
       "25%     28381.500000  1008.500000      4.453035         3.003676\n",
       "50%     38962.000000  1258.500000      4.590641         3.099853\n",
       "75%     51263.250000  1501.250000      4.709806         3.176453\n",
       "max    196911.000000  4359.000000      5.294270         3.639387"
      ]
     },
     "execution_count": 173,
     "metadata": {},
     "output_type": "execute_result"
    }
   ],
   "source": [
    "df.describe()"
   ]
  },
  {
   "cell_type": "code",
   "execution_count": 174,
   "id": "a069f967",
   "metadata": {},
   "outputs": [
    {
     "name": "stdout",
     "output_type": "stream",
     "text": [
      "train size: (700, 6), test size: (300, 6)\n"
     ]
    }
   ],
   "source": [
    "train, test = train_test_split(df, test_size=0.3, random_state=42)\n",
    "print(f'train size: {train.shape}, test size: {test.shape}')"
   ]
  },
  {
   "cell_type": "code",
   "execution_count": 175,
   "id": "2970558d",
   "metadata": {},
   "outputs": [],
   "source": [
    "train , validation = train_test_split(train, test_size=0.30, random_state=0)"
   ]
  },
  {
   "cell_type": "code",
   "execution_count": 176,
   "id": "2d743bd0",
   "metadata": {},
   "outputs": [
    {
     "name": "stdout",
     "output_type": "stream",
     "text": [
      "train shape: (490, 6), validation shape : (210, 6), test shape : (300, 6)\n"
     ]
    }
   ],
   "source": [
    "print(f\"train shape: {train.shape}, validation shape : {validation.shape}, test shape : {test.shape}\")"
   ]
  },
  {
   "cell_type": "code",
   "execution_count": 177,
   "id": "198f04d3",
   "metadata": {},
   "outputs": [],
   "source": [
    "def doc_and_summary(doc_row: pd.Series):\n",
    "    return doc_row['text'], doc_row['summary']\n"
   ]
  },
  {
   "cell_type": "code",
   "execution_count": 178,
   "id": "62f32a48",
   "metadata": {},
   "outputs": [
    {
     "name": "stdout",
     "output_type": "stream",
     "text": [
      "Document (500 of135,755characters ):\n",
      "## 1.1 Policy context\n",
      "\n",
      "\n",
      "Some 25 per cent of Australians live outside\n",
      "one of the nation's capitals, resulting in a substantial\n",
      "nonmetropolitan population in absolute terms, but a much smaller\n",
      "population relative to the total number resident in the largest\n",
      "metropolitan centres. Policy for rural and regional housing across\n",
      "Australia is made complex by federation: the Australian Government has\n",
      "relatively few direct powers with respect to housing, but remains an\n",
      "important source of financial support...\n",
      "\n",
      "Summary (1,405characters):\n",
      "This AHURI research examined housing trends and the processes of\n",
      "delivering affordable housing supply in rural and regional Australia.\n",
      "These rural and regional housing markets have faced substantial\n",
      "challenges for more than three decades, including poor housing\n",
      "affordability; under-developed supply chains; the shortage of skilled\n",
      "and unskilled labour force; increasing demand for housing in some\n",
      "localities, while other centres decline; together with limited policy\n",
      "attention to the specific needs of rural and regional Australia.  A\n",
      "clear research finding is the need for government action to ‘unfreeze’\n",
      "rural and regional housing markets, making substantial investments and\n",
      "interventions in regional housing markets and developing stronger\n",
      "supply chains for rural and regional housing. The development of a\n",
      "national urban and regional strategy would also provide certainty for\n",
      "private investment, while also unlocking potential State and\n",
      "Australian government support.  To overcome the shortage of labour to\n",
      "work on dwelling construction, a guaranteed program of investment in\n",
      "work and new-builds may be needed to attract and retain labour in the\n",
      "housing sector so as to create a more secure pipeline of work for\n",
      "builders and their workforce. This would need to be a long-term\n",
      "strategy, otherwise short-term action may exacerbate existing\n",
      "challenges, placing additional price pressure into the market.\n"
     ]
    }
   ],
   "source": [
    "def show_doc_and_sumarry(doc: str , summary: str, max_len_to_print=500) -> str:\n",
    "    return(\n",
    "        f'Document ({max_len_to_print:,} of{len(doc):,}characters ):\\n'\n",
    "        f\"{fill(doc[:max_len_to_print], replace_whitespace=False)}...\\n\\n\"\n",
    "        f'Summary ({len(summary):,}characters):\\n'\n",
    "        f'{fill(summary)}'\n",
    "    )\n",
    "\n",
    "doc_row = train.loc[533]\n",
    "doc, summary = doc_and_summary(doc_row)\n",
    "print(show_doc_and_sumarry(doc, summary))"
   ]
  },
  {
   "cell_type": "code",
   "execution_count": 179,
   "id": "bb364e01",
   "metadata": {},
   "outputs": [
    {
     "name": "stdout",
     "output_type": "stream",
     "text": [
      "Our prompt (135,803 characters):\n",
      "Here is a terrific one-sentence summarry of \"## 1.1 Policy c ... e off housing nationwide.\n",
      "\n",
      "\": \n"
     ]
    }
   ],
   "source": [
    "prompt_template = 'Here is a terrific one-sentence summarry of \"{doc}\": '\n",
    "prompt= prompt_template.format(doc=doc)\n",
    "\n",
    "def show_prompt(prompt: str , start_chars: int = 60, end_chars: int =30) -> str:\n",
    "    return f\"Our prompt ({len(prompt):,} characters):\\n{prompt[:start_chars]} ... {prompt[-end_chars:]}\"\n",
    "\n",
    "print(show_prompt(prompt))"
   ]
  },
  {
   "cell_type": "code",
   "execution_count": 180,
   "id": "19fabfc6",
   "metadata": {},
   "outputs": [
    {
     "data": {
      "text/plain": [
       "{'version': '0.12.2'}"
      ]
     },
     "execution_count": 180,
     "metadata": {},
     "output_type": "execute_result"
    }
   ],
   "source": [
    "requests.get(LLM_server + '/api/version').json()"
   ]
  },
  {
   "cell_type": "code",
   "execution_count": 181,
   "id": "ed7d1eca",
   "metadata": {},
   "outputs": [],
   "source": [
    "import json"
   ]
  },
  {
   "cell_type": "code",
   "execution_count": 182,
   "id": "fdc41e57",
   "metadata": {},
   "outputs": [],
   "source": [
    "def get_llm_completion(prompt: str, max_tokens :int | None= None, top_k: int | None = None) -> str:\n",
    "    data = {\n",
    "        \"model\": MODEL,\n",
    "        \"prompt\": prompt,\n",
    "        \"seed\":0,\n",
    "        \"max_tokens\": max_tokens,\n",
    "        \"top_k\": top_k,\n",
    "\n",
    "    }\n",
    "    resp = requests.post(LLM_server + '/v1/generate', json=data)\n",
    "    return resp.json()['choices'][0]['text']"
   ]
  },
  {
   "cell_type": "code",
   "execution_count": 183,
   "id": "be940240",
   "metadata": {},
   "outputs": [],
   "source": [
    "def get_llm_completion(\n",
    "    prompt: str, max_tokens: int | None = None, top_k: int | None = None\n",
    ") -> str:\n",
    "    \"\"\"Hit an API endpoint to get an LLM completion\"\"\"\n",
    "    data = {\n",
    "        \"model\": MODEL,\n",
    "        \"prompt\": prompt,\n",
    "        \"seed\": 0,\n",
    "        \"max_tokens\": max_tokens,\n",
    "        \"top_k\": top_k,\n",
    "    }\n",
    "    resp = requests.post(LLM_server + \"/v1/completions\", json=data)\n",
    "    return resp.json()[\"choices\"][0][\"text\"]"
   ]
  },
  {
   "cell_type": "code",
   "execution_count": 184,
   "id": "b5de5ff9",
   "metadata": {},
   "outputs": [
    {
     "name": "stdout",
     "output_type": "stream",
     "text": [
      "Here is a terrific one-sentence summarry of \"{doc}\": \n",
      "\n",
      "Okay, here's a breakdown of the key takeaways from the text, organized\n",
      "into categories to make it easier to digest:\n",
      "\n",
      "**1. Core Problem &\n",
      "Context - The Challenges Facing Regional Housing**\n",
      "\n",
      "* **Long-Term\n",
      "Economic & Demographic Change:** Australia’s population is shifting,\n",
      "with growth concentrated in the eastern seaboard and decline in inland\n",
      "and remote areas.\n",
      "* **Pandemic Impact:** The pandemic significantly\n",
      "accelerated some trends, including the shift in demand to suburban and\n",
      "rural areas.\n",
      "* **Regional Housing Supply Fragility:**  Existing\n",
      "housing supply is fragile and lacks sufficient infrastructure and\n",
      "resources, particularly in rural areas. This is a critical issue.\n",
      "**2.  Analysis of International Experience (The Nordic Countries)**\n",
      "\n",
      "*\n",
      "**Direct Government Intervention:**  The text highlights that\n",
      "governments aren’t doing enough to proactively address the problem.\n",
      "This is a major point of concern.\n",
      "* **Focus on Local Knowledge &\n",
      "Policy:**  The Nordic countries – particularly the regio\n"
     ]
    }
   ],
   "source": [
    "completion = get_llm_completion(prompt)\n",
    "print(prompt_template +\"\\n\\n\" + fill(completion, replace_whitespace=False)[:1000])"
   ]
  },
  {
   "cell_type": "code",
   "execution_count": 186,
   "id": "81da2a42",
   "metadata": {},
   "outputs": [],
   "source": [
    "def count_tokens(text: str) -> int :\n",
    "    enc = tiktoken.encoding_for_model('gpt-4o')\n",
    "    return len(enc.encode(text))"
   ]
  },
  {
   "cell_type": "code",
   "execution_count": 189,
   "id": "0fc7bd4e",
   "metadata": {},
   "outputs": [
    {
     "name": "stdout",
     "output_type": "stream",
     "text": [
      "Our prompt is 25,854 tokens. \n"
     ]
    }
   ],
   "source": [
    "print(f'Our prompt is {count_tokens(prompt):,} tokens. ')"
   ]
  },
  {
   "cell_type": "code",
   "execution_count": 190,
   "id": "20e9fc9e",
   "metadata": {},
   "outputs": [
    {
     "name": "stdout",
     "output_type": "stream",
     "text": [
      "Our prompt (135,803 characters):\n",
      "Here is a terrific one-sentence summarry of \"## 1.1 Policy c ... e off housing nationwide.\n",
      "\n",
      "\": \n"
     ]
    }
   ],
   "source": [
    "print(show_prompt(prompt))"
   ]
  },
  {
   "cell_type": "code",
   "execution_count": 192,
   "id": "edeae590",
   "metadata": {},
   "outputs": [
    {
     "name": "stdout",
     "output_type": "stream",
     "text": [
      "Our shorter prompt is 1,362 tokens. \n",
      "Our prompt (7,548 characters):\n",
      "Here is a terrific one-sentence summarry of \"## 1.1 Policy c ... rdable rental housing (Mart\": \n"
     ]
    }
   ],
   "source": [
    "shorter_prompt = prompt_template.format(doc=doc[:7_500])\n",
    "print(f'Our shorter prompt is {count_tokens(shorter_prompt):,} tokens. ')\n",
    "print(show_prompt(shorter_prompt))"
   ]
  },
  {
   "cell_type": "code",
   "execution_count": 195,
   "id": "c53f004d",
   "metadata": {},
   "outputs": [
    {
     "name": "stdout",
     "output_type": "stream",
     "text": [
      "Okay, here’s a breakdown of the key takeaways from the text, organized\n",
      "for clarity:\n",
      "\n",
      "**1. The Housing Crisis in Australia – A Complex\n",
      "Situation**\n",
      "\n",
      "*   **Significant Population Gap:** Australia has a large\n",
      "proportion of residents outside major capital cities, creating a\n",
      "substantial rural and regional population, but a smaller population\n",
      "overall.\n",
      "*   **Federalism’s Impact:**  The Australian government’s\n",
      "limited direct powers regarding housing across federation creates\n",
      "challenges for effective regional policies.\n",
      "*   **Existing Support:**\n",
      "While the federal government provides financial support, it’s not\n",
      "specifically targeting regional needs.\n",
      "\n",
      "**2. Key Existing Programs &\n",
      "Initiatives**\n",
      "\n",
      "*   **Regional First Home Buyer Guarantee (RFHBG):**\n",
      "Housing Australia administers this program to support regional\n",
      "homebuyers with a 5% deposit. It’s been running for 10,000 places\n",
      "since 2023 and has significant funding from the HAFF.\n",
      "*   **Housing\n",
      "Australia Future Fund (HAFF) & National Housing Accord:** T\n"
     ]
    }
   ],
   "source": [
    "completion = get_llm_completion(shorter_prompt)\n",
    "print(fill(completion, replace_whitespace=False)[:1000])"
   ]
  },
  {
   "cell_type": "code",
   "execution_count": 198,
   "id": "1689d9ce",
   "metadata": {},
   "outputs": [
    {
     "name": "stdout",
     "output_type": "stream",
     "text": [
      "Collecting openai\n",
      "  Downloading openai-1.109.1-py3-none-any.whl.metadata (29 kB)\n",
      "Requirement already satisfied: anyio<5,>=3.5.0 in c:\\users\\ce pc\\anaconda3\\lib\\site-packages (from openai) (4.2.0)\n",
      "Requirement already satisfied: distro<2,>=1.7.0 in c:\\users\\ce pc\\anaconda3\\lib\\site-packages (from openai) (1.9.0)\n",
      "Requirement already satisfied: httpx<1,>=0.23.0 in c:\\users\\ce pc\\anaconda3\\lib\\site-packages (from openai) (0.27.0)\n",
      "Collecting jiter<1,>=0.4.0 (from openai)\n",
      "  Downloading jiter-0.11.0-cp312-cp312-win_amd64.whl.metadata (5.3 kB)\n",
      "Requirement already satisfied: pydantic<3,>=1.9.0 in c:\\users\\ce pc\\anaconda3\\lib\\site-packages (from openai) (2.8.2)\n",
      "Requirement already satisfied: sniffio in c:\\users\\ce pc\\anaconda3\\lib\\site-packages (from openai) (1.3.0)\n",
      "Requirement already satisfied: tqdm>4 in c:\\users\\ce pc\\anaconda3\\lib\\site-packages (from openai) (4.67.1)\n",
      "Requirement already satisfied: typing-extensions<5,>=4.11 in c:\\users\\ce pc\\anaconda3\\lib\\site-packages (from openai) (4.14.0)\n",
      "Requirement already satisfied: idna>=2.8 in c:\\users\\ce pc\\anaconda3\\lib\\site-packages (from anyio<5,>=3.5.0->openai) (3.7)\n",
      "Requirement already satisfied: certifi in c:\\users\\ce pc\\anaconda3\\lib\\site-packages (from httpx<1,>=0.23.0->openai) (2025.8.3)\n",
      "Requirement already satisfied: httpcore==1.* in c:\\users\\ce pc\\anaconda3\\lib\\site-packages (from httpx<1,>=0.23.0->openai) (1.0.2)\n",
      "Requirement already satisfied: h11<0.15,>=0.13 in c:\\users\\ce pc\\anaconda3\\lib\\site-packages (from httpcore==1.*->httpx<1,>=0.23.0->openai) (0.14.0)\n",
      "Requirement already satisfied: annotated-types>=0.4.0 in c:\\users\\ce pc\\anaconda3\\lib\\site-packages (from pydantic<3,>=1.9.0->openai) (0.6.0)\n",
      "Requirement already satisfied: pydantic-core==2.20.1 in c:\\users\\ce pc\\anaconda3\\lib\\site-packages (from pydantic<3,>=1.9.0->openai) (2.20.1)\n",
      "Requirement already satisfied: colorama in c:\\users\\ce pc\\anaconda3\\lib\\site-packages (from tqdm>4->openai) (0.4.6)\n",
      "Downloading openai-1.109.1-py3-none-any.whl (948 kB)\n",
      "   ---------------------------------------- 0.0/948.6 kB ? eta -:--:--\n",
      "   ----------- ---------------------------- 262.1/948.6 kB ? eta -:--:--\n",
      "   ---------------------------------------- 948.6/948.6 kB 3.4 MB/s eta 0:00:00\n",
      "Downloading jiter-0.11.0-cp312-cp312-win_amd64.whl (203 kB)\n",
      "Installing collected packages: jiter, openai\n",
      "Successfully installed jiter-0.11.0 openai-1.109.1\n"
     ]
    }
   ],
   "source": [
    "!pip install openai\n",
    "from openai import OpenAI\n"
   ]
  },
  {
   "cell_type": "code",
   "execution_count": 202,
   "id": "4185e4e3",
   "metadata": {},
   "outputs": [
    {
     "name": "stdout",
     "output_type": "stream",
     "text": [
      "I'm a large language model, trained by Google. I don’t have a name in\n",
      "the traditional sense! I’m still under development. \n",
      "\n",
      "As for my\n",
      "favorite color, that’s a tricky question for me – I don’t experience\n",
      "colors like humans do! But if I had to pick one, I’d say **teal**. It\n",
      "represents a blend of calmness and intelligence. 😊\n",
      "\n",
      "How about you?\n",
      "What’s your favorite color?\n"
     ]
    }
   ],
   "source": [
    "llm_client = OpenAI(base_url=LLM_server + \"/v1\", api_key=\"my-fake-api-key!\")\n",
    "chat_completion = llm_client.chat.completions.create(\n",
    "    messages=[\n",
    "        {\"role\":\"user\",\n",
    "        \"content\": \"what's your name, age , and favorite color?\"}\n",
    "    ],\n",
    "    model= MODEL,\n",
    "    seed=0,\n",
    ")\n",
    "\n",
    "print(fill(chat_completion.choices[0].message.content, replace_whitespace=False))"
   ]
  },
  {
   "cell_type": "code",
   "execution_count": 203,
   "id": "22a3802f",
   "metadata": {},
   "outputs": [],
   "source": [
    "def ask_llm(prompt: str , max_tokens: int = 500):\n",
    "\n",
    "    chat_completion= llm_client.chat.completions.create(\n",
    "        messages=[{\n",
    "            \"role\":\"user\",\n",
    "            \"content\": prompt,\n",
    "\n",
    "        }],\n",
    "        model= MODEL,\n",
    "        max_tokens = max_tokens,\n",
    "    )\n",
    "    return chat_completion.choices[0].message.content , chat_completion"
   ]
  },
  {
   "cell_type": "code",
   "execution_count": 204,
   "id": "63db0eb9",
   "metadata": {},
   "outputs": [],
   "source": [
    "prompt_template= (\n",
    "    \"Can you please write a terrific one-sentence summary of this document :\\n\\n{doc}\"\n",
    ")\n",
    "\n",
    "resp, completion = ask_llm(prompt_template.format(doc=doc[:10_000]))"
   ]
  },
  {
   "cell_type": "code",
   "execution_count": 205,
   "id": "8dbb27ce",
   "metadata": {},
   "outputs": [
    {
     "name": "stdout",
     "output_type": "stream",
     "text": [
      "Prompt tokens :1,904\n",
      "Completion tokens :68\n"
     ]
    }
   ],
   "source": [
    "print(f'Prompt tokens :{completion.usage.prompt_tokens:,}\\nCompletion tokens :{completion.usage.completion_tokens:,}')"
   ]
  },
  {
   "cell_type": "code",
   "execution_count": 206,
   "id": "da7faaf8",
   "metadata": {},
   "outputs": [
    {
     "name": "stdout",
     "output_type": "stream",
     "text": [
      "Here's a one-sentence summary of the document:\n",
      "\n",
      "**The Australian\n",
      "government’s efforts to address rural and regional housing challenges,\n",
      "while focused on supporting local governments and community housing\n",
      "providers, are hampered by a fragmented approach and a lack of\n",
      "substantial investment in social housing, leading to a complex\n",
      "interplay of policy initiatives and regional disparities.**\n"
     ]
    }
   ],
   "source": [
    "print(fill(resp, replace_whitespace=False))"
   ]
  }
 ],
 "metadata": {
  "kernelspec": {
   "display_name": "base",
   "language": "python",
   "name": "python3"
  },
  "language_info": {
   "codemirror_mode": {
    "name": "ipython",
    "version": 3
   },
   "file_extension": ".py",
   "mimetype": "text/x-python",
   "name": "python",
   "nbconvert_exporter": "python",
   "pygments_lexer": "ipython3",
   "version": "3.12.3"
  }
 },
 "nbformat": 4,
 "nbformat_minor": 5
}
